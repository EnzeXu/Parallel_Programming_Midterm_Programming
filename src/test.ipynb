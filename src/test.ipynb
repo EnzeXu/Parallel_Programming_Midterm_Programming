{
 "cells": [
  {
   "cell_type": "code",
   "execution_count": 1,
   "metadata": {},
   "outputs": [],
   "source": [
    "import torch\n",
    "from srnn.utils import Trainer\n",
    "\n",
    "trainer = Trainer(\n",
    "    model_mode = 'MLP',\n",
    "    func_name = 'test2',\n",
    "    batch_size = 128,\n",
    "    lr = 0.0001,\n",
    "    seed = 0,\n",
    "    cuda = 0,\n",
    ")\n",
    "trainer.load()"
   ]
  },
  {
   "cell_type": "code",
   "execution_count": 2,
   "metadata": {},
   "outputs": [
    {
     "data": {
      "text/plain": [
       "((40000,), (40000,))"
      ]
     },
     "execution_count": 2,
     "metadata": {},
     "output_type": "execute_result"
    }
   ],
   "source": [
    "x = torch.linspace(-5, 5, 200)\n",
    "xx = torch.meshgrid(x, x, indexing = 'ij')\n",
    "X = torch.cat((xx[0].unsqueeze(0), xx[1].unsqueeze(0)), dim = 0).reshape(-1, 2)\n",
    "\n",
    "func = lambda x: x[:, 0]**2 * x[:, 1] + x[:, 0] + 2 * x[:, 1]\n",
    "Y_true = func(X).numpy()\n",
    "Y_pred = trainer.model(X).squeeze(-1).detach().numpy()\n",
    "Y_true.shape, Y_pred.shape"
   ]
  },
  {
   "cell_type": "code",
   "execution_count": 4,
   "metadata": {},
   "outputs": [
    {
     "data": {
      "text/plain": [
       "array([-0.5042877 , -0.5042877 , -0.5042877 , ..., -0.07705688,\n",
       "        0.00439453,  0.5185089 ], dtype=float32)"
      ]
     },
     "execution_count": 4,
     "metadata": {},
     "output_type": "execute_result"
    }
   ],
   "source": [
    "Y_true - Y_pred"
   ]
  },
  {
   "cell_type": "code",
   "execution_count": 3,
   "metadata": {},
   "outputs": [
    {
     "data": {
      "text/plain": [
       "<matplotlib.image.AxesImage at 0x7f4bcc1cb700>"
      ]
     },
     "execution_count": 3,
     "metadata": {},
     "output_type": "execute_result"
    },
    {
     "data": {
      "image/png": "[encoded data removed]",
      "text/plain": [
       "<Figure size 864x432 with 2 Axes>"
      ]
     },
     "metadata": {
      "needs_background": "light"
     },
     "output_type": "display_data"
    }
   ],
   "source": [
    "import matplotlib.pyplot as plt\n",
    "fig = plt.figure(figsize = (12, 6))\n",
    "plt.subplot(1, 2, 1)\n",
    "plt.imshow(Y_true.reshape(200, 200))\n",
    "\n",
    "plt.subplot(1, 2, 2)\n",
    "plt.imshow(Y_pred.reshape(200, 200))"
   ]
  }
 ],
 "metadata": {
  "kernelspec": {
   "display_name": "taylor",
   "language": "python",
   "name": "python3"
  },
  "language_info": {
   "codemirror_mode": {
    "name": "ipython",
    "version": 3
   },
   "file_extension": ".py",
   "mimetype": "text/x-python",
   "name": "python",
   "nbconvert_exporter": "python",
   "pygments_lexer": "ipython3",
   "version": "3.10.5"
  },
  "orig_nbformat": 4
 },
 "nbformat": 4,
 "nbformat_minor": 2
}
